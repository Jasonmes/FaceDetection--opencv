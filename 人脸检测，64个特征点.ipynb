{
 "cells": [
  {
   "cell_type": "markdown",
   "metadata": {},
   "source": [
    "### 1. 开发环境\n",
    "\n",
    "　　Python:　　3.6.3\n",
    "\n",
    "　　Dlib:　　　 19.7\n",
    "\n",
    "　　Opencv, NumPy\n",
    "\n",
    "　　需要调用的库：　"
   ]
  },
  {
   "cell_type": "code",
   "execution_count": 2,
   "metadata": {},
   "outputs": [],
   "source": [
    "import dlib                     # 人脸检测的库 Dlib\n",
    "import numpy as np      # 数据处理的库 Numpy\n",
    "import cv2                      # 图像处理的库 OpenCv"
   ]
  },
  {
   "cell_type": "markdown",
   "metadata": {},
   "source": [
    "### 2. 设计流程\n",
    "\n",
    "　　两部分：68 个特征点提取 和 OpenCv 绘图\n",
    "\n",
    "　　68 点提取：\n",
    "\n",
    "　　　借助 Dlib 官方的 Demo: face_landmark_detection.py，可以得到脸部 68 个特征点的坐标；\n",
    "\n",
    "　　OpenCv 绘图：\n",
    "\n",
    "　　　使用 opencv 中 画圆函数 cv2.circle() 和 画字符函数 cv2.putText() ；\n",
    "\n",
    " \n",
    "\n",
    "　　流程：\n",
    "\n",
    "　　1. 调用 Dlib 库来进行人脸识别，调用预测器 “shape_predictor_68_face_landmarks.dat” 进行 68 点标定；\n",
    "\n",
    "　　2. 存入 68 个点坐标；\n",
    "\n",
    "　　3. 利用 cv2.circle 来画 68 个点；\n",
    "\n",
    "　　4. 利用 cv2.putText() 函数来画数字 1-68 ；\n",
    "\n"
   ]
  },
  {
   "cell_type": "code",
   "execution_count": null,
   "metadata": {},
   "outputs": [],
   "source": [
    "# 对静态人脸图像文件进行68个特征点的标定\n",
    "\n",
    "# Author:   coneypo\n",
    "# Blog:     http://www.cnblogs.com/AdaminXie\n",
    "# GitHub:   https://github.com/coneypo/Dlib_face_detection_from_camera\n",
    "\n",
    "import dlib         # 人脸识别的库 Dlib\n",
    "import numpy as np  # 数据处理的库 numpy\n",
    "import cv2          # 图像处理的库 OpenCv\n",
    "\n",
    "# Dlib 检测器和预测器\n",
    "detector = dlib.get_frontal_face_detector()\n",
    "predictor = dlib.shape_predictor('shape_predictor_68_face_landmarks.dat')\n",
    "\n",
    "# 读取图像文件\n",
    "img_rd = cv2.imread(\"test.jpg\")\n",
    "img_gray = cv2.cvtColor(img_rd, cv2.COLOR_RGB2GRAY)\n",
    "\n",
    "# 人脸数\n",
    "faces = detector(img_gray, 0)\n",
    "\n",
    "# 待会要写的字体\n",
    "font = cv2.FONT_HERSHEY_SIMPLEX\n",
    "\n",
    "# 标 68 个点\n",
    "if len(faces) != 0:\n",
    "    # 检测到人脸\n",
    "    for i in range(len(faces)):\n",
    "        # 取特征点坐标\n",
    "        landmarks = np.matrix([[p.x, p.y] for p in predictor(img_rd, faces[i]).parts()])\n",
    "        for idx, point in enumerate(landmarks):\n",
    "            # 68 点的坐标\n",
    "            pos = (point[0, 0], point[0, 1])\n",
    "\n",
    "            # 利用 cv2.circle 给每个特征点画一个圈，共 68 个\n",
    "            cv2.circle(img_rd, pos, 2, color=(139, 0, 0))\n",
    "            # 利用 cv2.putText 写数字 1-68\n",
    "            cv2.putText(img_rd, str(idx + 1), pos, font, 0.2, (187, 255, 255), 1, cv2.LINE_AA)\n",
    "\n",
    "    cv2.putText(img_rd, \"faces: \" + str(len(faces)), (20, 50), font, 1, (0, 0, 0), 1, cv2.LINE_AA)\n",
    "else:\n",
    "    # 没有检测到人脸\n",
    "    cv2.putText(img_rd, \"no face\", (20, 50), font, 1, (0, 0, 0), 1, cv2.LINE_AA)\n",
    "\n",
    "# 窗口显示\n",
    "# 参数取 0 可以拖动缩放窗口，为 1 不可以\n",
    "# cv2.namedWindow(\"image\", 0)\n",
    "cv2.namedWindow(\"image\", 1)\n",
    "\n",
    "cv2.imshow(\"image\", img_rd)\n",
    "cv2.waitKey(0)"
   ]
  },
  {
   "cell_type": "markdown",
   "metadata": {},
   "source": [
    "OpenCv 的画图函数\n",
    "\n",
    "1. 画圆 cv2.circle( img, (p1,p2), r, (255,255,255) )"
   ]
  },
  {
   "cell_type": "code",
   "execution_count": null,
   "metadata": {},
   "outputs": [],
   "source": [
    "cv2.circle(img=img, center=(50,30), radius=4, color=(255,0,255))"
   ]
  },
  {
   "cell_type": "markdown",
   "metadata": {},
   "source": [
    "参数 1：　　img-　　　　      图片对象 img；\n",
    "\n",
    "　　参数 2：　　(p1,p2)-　　        圆心坐标 center；\n",
    "\n",
    "　　参数 3：　　r-　　　　　　    半径 radius；\n",
    "\n",
    "　　参数 4：　　(255,255,255)-　 颜色数组；　"
   ]
  },
  {
   "cell_type": "markdown",
   "metadata": {},
   "source": [
    " 2. 写字符 cv2.putText( img,\"test\", (p1,p2), font, 4, (255,255,255), 2, cv2, LINE_AA ) 2. 写字符 cv2.putText( img,\"test\", (p1,p2), font, 4, (255,255,255), 2, cv2, LINE_AA )"
   ]
  },
  {
   "cell_type": "code",
   "execution_count": null,
   "metadata": {},
   "outputs": [],
   "source": [
    "cv2.putText(img=img, text=\"hello world\", org=(10,30), fontFace=font, fontScale=0.6, color=(187, 255, 255), thickness=1, lineType=cv2.LINE_AA)"
   ]
  },
  {
   "cell_type": "markdown",
   "metadata": {},
   "source": [
    "　参数 1：　　img-　　　　　　图像对象 img；\n",
    "\n",
    "　　参数 2：　　\"test\"-　　　　　 需要打印的字符 text（数字的话可以利用 str() 转成字符）;\n",
    "\n",
    "　　参数 3：　　(p1,p2)-　　　  　坐标 textOrg；\n",
    "\n",
    "　　参数 4：　　font-　　　　　　字体 fontFace（ 注意这里 font = cv2.FONT_HERSHEY_SIMPLEX ）;\n",
    "\n",
    "　　参数 5：　　4-　　　　　　　字号 fontScale；\n",
    "\n",
    "　　参数 6：　　(255,255,255)-　  颜色数组 color；\n",
    "\n",
    "　　参数 7：　　2-　　　　　　　 线宽 thickness；\n",
    "\n",
    "　　参数 8：　　LINE_AA-　　　   线条种类 line_type；"
   ]
  },
  {
   "cell_type": "markdown",
   "metadata": {},
   "source": [
    "　　* 关于 颜色数组：\n",
    "\n",
    "　　　　(255,255,255), (蓝色，绿色，红色)，每个值都是 0-255；\n",
    "\n",
    "　　　　比如：蓝色 (255,0,0)，紫色 (255,0,255)"
   ]
  },
  {
   "cell_type": "markdown",
   "metadata": {},
   "source": [
    "### 颜色常用对照表\n",
    "#### http://tool.oschina.net/commons?type=3\n",
    "![](颜色对照.jpg)"
   ]
  },
  {
   "cell_type": "code",
   "execution_count": null,
   "metadata": {},
   "outputs": [],
   "source": []
  }
 ],
 "metadata": {
  "kernelspec": {
   "display_name": "Python 3",
   "language": "python",
   "name": "python3"
  },
  "language_info": {
   "codemirror_mode": {
    "name": "ipython",
    "version": 3
   },
   "file_extension": ".py",
   "mimetype": "text/x-python",
   "name": "python",
   "nbconvert_exporter": "python",
   "pygments_lexer": "ipython3",
   "version": "3.6.2"
  }
 },
 "nbformat": 4,
 "nbformat_minor": 2
}
